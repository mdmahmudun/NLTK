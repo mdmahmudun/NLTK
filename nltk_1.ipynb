{
 "cells": [
  {
   "cell_type": "markdown",
   "id": "df836973-6dad-4a50-8837-ecedfceed1e6",
   "metadata": {},
   "source": [
    "## Install nltk"
   ]
  },
  {
   "cell_type": "code",
   "execution_count": 1,
   "id": "5e78fd5f-6058-4b06-9385-2317486bc20d",
   "metadata": {},
   "outputs": [],
   "source": [
    "# !pip install nltk\n",
    "# import nltk\n",
    "# nltk.download('punkt')\n",
    "# nltk.download('wordnet')\n",
    "# nltk.download('omw-1.4')\n",
    "# nltk.download('stopwords')"
   ]
  },
  {
   "cell_type": "markdown",
   "id": "d7af7f11-6424-4a88-974f-308179085bf4",
   "metadata": {},
   "source": [
    "## Read the pdf file"
   ]
  },
  {
   "cell_type": "code",
   "execution_count": 2,
   "id": "d822a8a7-be27-4507-9a95-a236a436d722",
   "metadata": {},
   "outputs": [
    {
     "name": "stdout",
     "output_type": "stream",
     "text": [
      "In recent years, Natural Language Processing (NLP) has undergone a remarkable \n",
      "evolution, reshaping the landscape of human -computer interaction and driving \n",
      "transformative advancements across various domains. At the forefront of this \n",
      "progress are transformer  models, epitomized by architectures like BERT and GPT, \n",
      "which have revolutionized language understanding and generation tasks. Transfer \n",
      "learning techniques have enabled models to leverage pre -trained language \n",
      "representations, leading to significant improve ments in performance across diverse \n",
      "NLP tasks with minimal task -specific data. Moreover, the integration of multiple \n",
      "modalities has propelled the development of multimodal NLP, facilitating richer \n",
      "interactions between machines and humans through text, imag e, and audio inputs. \n",
      "Alongside technological advancements, there's a growing emphasis on ethical \n",
      "considerations, with efforts to mitigate biases and promote fairness in NLP models \n",
      "and datasets. Meanwhile, innovations in low -resource and cross -lingual NLP a im to \n",
      "democratize access to NLP technologies for languages with limited resources, \n",
      "fostering inclusivity and global collaboration. Conversational AI has also seen \n",
      "remarkable progress, with sophisticated chatbots and virtual assistants capable of \n",
      "engaging i n natural, contextually relevant dialogues with users. Additionally, the \n",
      "pursuit of explainable NLP techniques addresses the need for transparency and \n",
      "interpretability in complex models, fostering trust and facilitating their integration \n",
      "into critical appl ications. As NLP continues to evolve at a rapid pace, fueled by \n",
      "ongoing research and innovation, its potential for societal impact and transformative \n",
      "applications appears boundless . \n"
     ]
    }
   ],
   "source": [
    "from PyPDF2 import PdfReader\n",
    "reader = PdfReader('text.pdf')\n",
    "texts = \"\"\n",
    "for page in reader.pages:\n",
    "    text = page.extract_text()\n",
    "    texts+=text\n",
    "print(texts)"
   ]
  },
  {
   "cell_type": "markdown",
   "id": "e4111291-cbf9-4379-8c65-28f4411fdf42",
   "metadata": {},
   "source": [
    "## Lowercasing"
   ]
  },
  {
   "cell_type": "code",
   "execution_count": 4,
   "id": "019548ce-826d-419d-9b10-0f0d8f1dade2",
   "metadata": {},
   "outputs": [
    {
     "data": {
      "text/plain": [
       "True"
      ]
     },
     "execution_count": 4,
     "metadata": {},
     "output_type": "execute_result"
    }
   ],
   "source": [
    "\"nlp\" == \"nlp\""
   ]
  },
  {
   "cell_type": "code",
   "execution_count": 5,
   "id": "4a5cd30c-217d-4437-8a40-90b73e03e0ec",
   "metadata": {},
   "outputs": [
    {
     "name": "stdout",
     "output_type": "stream",
     "text": [
      "in recent years, natural language processing (nlp) has undergone a remarkable \n",
      "evolution, reshaping the landscape of human -computer interaction and driving \n",
      "transformative advancements across various domains. at the forefront of this \n",
      "progress are transformer  models, epitomized by architectures like bert and gpt, \n",
      "which have revolutionized language understanding and generation tasks. transfer \n",
      "learning techniques have enabled models to leverage pre -trained language \n",
      "representations, leading to significant improve ments in performance across diverse \n",
      "nlp tasks with minimal task -specific data. moreover, the integration of multiple \n",
      "modalities has propelled the development of multimodal nlp, facilitating richer \n",
      "interactions between machines and humans through text, imag e, and audio inputs. \n",
      "alongside technological advancements, there's a growing emphasis on ethical \n",
      "considerations, with efforts to mitigate biases and promote fairness in nlp models \n",
      "and datasets. meanwhile, innovations in low -resource and cross -lingual nlp a im to \n",
      "democratize access to nlp technologies for languages with limited resources, \n",
      "fostering inclusivity and global collaboration. conversational ai has also seen \n",
      "remarkable progress, with sophisticated chatbots and virtual assistants capable of \n",
      "engaging i n natural, contextually relevant dialogues with users. additionally, the \n",
      "pursuit of explainable nlp techniques addresses the need for transparency and \n",
      "interpretability in complex models, fostering trust and facilitating their integration \n",
      "into critical appl ications. as nlp continues to evolve at a rapid pace, fueled by \n",
      "ongoing research and innovation, its potential for societal impact and transformative \n",
      "applications appears boundless . \n"
     ]
    }
   ],
   "source": [
    "texts = texts.lower()\n",
    "print(texts)"
   ]
  },
  {
   "cell_type": "markdown",
   "id": "dfa50c84-d851-4fa7-966a-053cd843f762",
   "metadata": {},
   "source": [
    "## Sentence tokenizer"
   ]
  },
  {
   "cell_type": "code",
   "execution_count": 6,
   "id": "4483bffa-45a1-4d6a-9b4b-6adc722fa63a",
   "metadata": {},
   "outputs": [
    {
     "name": "stdout",
     "output_type": "stream",
     "text": [
      "['in recent years, natural language processing (nlp) has undergone a remarkable \\nevolution, reshaping the landscape of human -computer interaction and driving \\ntransformative advancements across various domains.', 'at the forefront of this \\nprogress are transformer  models, epitomized by architectures like bert and gpt, \\nwhich have revolutionized language understanding and generation tasks.', 'transfer \\nlearning techniques have enabled models to leverage pre -trained language \\nrepresentations, leading to significant improve ments in performance across diverse \\nnlp tasks with minimal task -specific data.', 'moreover, the integration of multiple \\nmodalities has propelled the development of multimodal nlp, facilitating richer \\ninteractions between machines and humans through text, imag e, and audio inputs.', \"alongside technological advancements, there's a growing emphasis on ethical \\nconsiderations, with efforts to mitigate biases and promote fairness in nlp models \\nand datasets.\", 'meanwhile, innovations in low -resource and cross -lingual nlp a im to \\ndemocratize access to nlp technologies for languages with limited resources, \\nfostering inclusivity and global collaboration.', 'conversational ai has also seen \\nremarkable progress, with sophisticated chatbots and virtual assistants capable of \\nengaging i n natural, contextually relevant dialogues with users.', 'additionally, the \\npursuit of explainable nlp techniques addresses the need for transparency and \\ninterpretability in complex models, fostering trust and facilitating their integration \\ninto critical appl ications.', 'as nlp continues to evolve at a rapid pace, fueled by \\nongoing research and innovation, its potential for societal impact and transformative \\napplications appears boundless .']\n"
     ]
    }
   ],
   "source": [
    "from nltk.tokenize import sent_tokenize\n",
    "sent_tokenized = sent_tokenize(texts)\n",
    "print(sent_tokenized)"
   ]
  },
  {
   "cell_type": "code",
   "execution_count": 7,
   "id": "084782bf-54ae-40d5-ab83-4e91a67e65ad",
   "metadata": {},
   "outputs": [
    {
     "name": "stdout",
     "output_type": "stream",
     "text": [
      "['in recent years, natural language processing (nlp) has undergone a remarkable evolution, reshaping the landscape of human -computer interaction and driving transformative advancements across various domains.', 'at the forefront of this progress are transformer  models, epitomized by architectures like bert and gpt, which have revolutionized language understanding and generation tasks.', 'transfer learning techniques have enabled models to leverage pre -trained language representations, leading to significant improve ments in performance across diverse nlp tasks with minimal task -specific data.', 'moreover, the integration of multiple modalities has propelled the development of multimodal nlp, facilitating richer interactions between machines and humans through text, imag e, and audio inputs.', \"alongside technological advancements, there's a growing emphasis on ethical considerations, with efforts to mitigate biases and promote fairness in nlp models and datasets.\", 'meanwhile, innovations in low -resource and cross -lingual nlp a im to democratize access to nlp technologies for languages with limited resources, fostering inclusivity and global collaboration.', 'conversational ai has also seen remarkable progress, with sophisticated chatbots and virtual assistants capable of engaging i n natural, contextually relevant dialogues with users.', 'additionally, the pursuit of explainable nlp techniques addresses the need for transparency and interpretability in complex models, fostering trust and facilitating their integration into critical appl ications.', 'as nlp continues to evolve at a rapid pace, fueled by ongoing research and innovation, its potential for societal impact and transformative applications appears boundless .']\n"
     ]
    }
   ],
   "source": [
    "sent_tokenized = [token.replace('\\n', \"\") for token in sent_tokenized]\n",
    "print(sent_tokenized)"
   ]
  },
  {
   "cell_type": "markdown",
   "id": "ad9b71a1-488b-467c-ba12-6ac0c66c4227",
   "metadata": {},
   "source": [
    "## Clean Punctuation marks"
   ]
  },
  {
   "cell_type": "code",
   "execution_count": 9,
   "id": "b8927dd1-0549-4898-9e52-8302e71a370c",
   "metadata": {},
   "outputs": [
    {
     "name": "stdout",
     "output_type": "stream",
     "text": [
      "!\"#$%&'()*+,-./:;<=>?@[\\]^_`{|}~\n"
     ]
    }
   ],
   "source": [
    "from string import punctuation\n",
    "print(punctuation)"
   ]
  },
  {
   "cell_type": "code",
   "execution_count": 11,
   "id": "999807f4-67f9-4097-840c-aa7e73e52358",
   "metadata": {},
   "outputs": [
    {
     "name": "stdout",
     "output_type": "stream",
     "text": [
      "in recent years natural language processing nlp has undergone a remarkable \n",
      "evolution reshaping the landscape of human computer interaction and driving \n",
      "transformative advancements across various domains at the forefront of this \n",
      "progress are transformer  models epitomized by architectures like bert and gpt \n",
      "which have revolutionized language understanding and generation tasks transfer \n",
      "learning techniques have enabled models to leverage pre trained language \n",
      "representations leading to significant improve ments in performance across diverse \n",
      "nlp tasks with minimal task specific data moreover the integration of multiple \n",
      "modalities has propelled the development of multimodal nlp facilitating richer \n",
      "interactions between machines and humans through text imag e and audio inputs \n",
      "alongside technological advancements theres a growing emphasis on ethical \n",
      "considerations with efforts to mitigate biases and promote fairness in nlp models \n",
      "and datasets meanwhile innovations in low resource and cross lingual nlp a im to \n",
      "democratize access to nlp technologies for languages with limited resources \n",
      "fostering inclusivity and global collaboration conversational ai has also seen \n",
      "remarkable progress with sophisticated chatbots and virtual assistants capable of \n",
      "engaging i n natural contextually relevant dialogues with users additionally the \n",
      "pursuit of explainable nlp techniques addresses the need for transparency and \n",
      "interpretability in complex models fostering trust and facilitating their integration \n",
      "into critical appl ications as nlp continues to evolve at a rapid pace fueled by \n",
      "ongoing research and innovation its potential for societal impact and transformative \n",
      "applications appears boundless  \n"
     ]
    }
   ],
   "source": [
    "cleaned_text = texts\n",
    "for punct in punctuation:\n",
    "    cleaned_text = cleaned_text.replace(punct, \"\")\n",
    "print(cleaned_text)"
   ]
  },
  {
   "cell_type": "markdown",
   "id": "3deba5a0-e630-4e19-b501-700a0be30acd",
   "metadata": {},
   "source": [
    "## Word Tokenizer"
   ]
  },
  {
   "cell_type": "code",
   "execution_count": 12,
   "id": "df93ff9f-24b1-4519-8f00-8a8588c6a706",
   "metadata": {},
   "outputs": [
    {
     "name": "stdout",
     "output_type": "stream",
     "text": [
      "['in', 'recent', 'years', 'natural', 'language', 'processing', 'nlp', 'has', 'undergone', 'a', 'remarkable', 'evolution', 'reshaping', 'the', 'landscape', 'of', 'human', 'computer', 'interaction', 'and', 'driving', 'transformative', 'advancements', 'across', 'various', 'domains', 'at', 'the', 'forefront', 'of', 'this', 'progress', 'are', 'transformer', 'models', 'epitomized', 'by', 'architectures', 'like', 'bert', 'and', 'gpt', 'which', 'have', 'revolutionized', 'language', 'understanding', 'and', 'generation', 'tasks', 'transfer', 'learning', 'techniques', 'have', 'enabled', 'models', 'to', 'leverage', 'pre', 'trained', 'language', 'representations', 'leading', 'to', 'significant', 'improve', 'ments', 'in', 'performance', 'across', 'diverse', 'nlp', 'tasks', 'with', 'minimal', 'task', 'specific', 'data', 'moreover', 'the', 'integration', 'of', 'multiple', 'modalities', 'has', 'propelled', 'the', 'development', 'of', 'multimodal', 'nlp', 'facilitating', 'richer', 'interactions', 'between', 'machines', 'and', 'humans', 'through', 'text', 'imag', 'e', 'and', 'audio', 'inputs', 'alongside', 'technological', 'advancements', 'theres', 'a', 'growing', 'emphasis', 'on', 'ethical', 'considerations', 'with', 'efforts', 'to', 'mitigate', 'biases', 'and', 'promote', 'fairness', 'in', 'nlp', 'models', 'and', 'datasets', 'meanwhile', 'innovations', 'in', 'low', 'resource', 'and', 'cross', 'lingual', 'nlp', 'a', 'im', 'to', 'democratize', 'access', 'to', 'nlp', 'technologies', 'for', 'languages', 'with', 'limited', 'resources', 'fostering', 'inclusivity', 'and', 'global', 'collaboration', 'conversational', 'ai', 'has', 'also', 'seen', 'remarkable', 'progress', 'with', 'sophisticated', 'chatbots', 'and', 'virtual', 'assistants', 'capable', 'of', 'engaging', 'i', 'n', 'natural', 'contextually', 'relevant', 'dialogues', 'with', 'users', 'additionally', 'the', 'pursuit', 'of', 'explainable', 'nlp', 'techniques', 'addresses', 'the', 'need', 'for', 'transparency', 'and', 'interpretability', 'in', 'complex', 'models', 'fostering', 'trust', 'and', 'facilitating', 'their', 'integration', 'into', 'critical', 'appl', 'ications', 'as', 'nlp', 'continues', 'to', 'evolve', 'at', 'a', 'rapid', 'pace', 'fueled', 'by', 'ongoing', 'research', 'and', 'innovation', 'its', 'potential', 'for', 'societal', 'impact', 'and', 'transformative', 'applications', 'appears', 'boundless']\n"
     ]
    }
   ],
   "source": [
    "from nltk.tokenize import word_tokenize\n",
    "word_tokenized = word_tokenize(cleaned_text)\n",
    "print(word_tokenized)"
   ]
  },
  {
   "cell_type": "code",
   "execution_count": 13,
   "id": "0603545f-eaa9-4e74-9f31-5ea4a1bd642b",
   "metadata": {},
   "outputs": [
    {
     "data": {
      "text/plain": [
       "[('and', 14), ('nlp', 8), ('the', 6), ('of', 6), ('to', 6)]"
      ]
     },
     "execution_count": 13,
     "metadata": {},
     "output_type": "execute_result"
    }
   ],
   "source": [
    "## check frequency of words\n",
    "from nltk.probability import FreqDist\n",
    "freqdist = FreqDist(word_tokenized)\n",
    "freqdist.most_common(5)"
   ]
  },
  {
   "cell_type": "markdown",
   "id": "76268066-90d0-47da-bd85-d25c0d1d2875",
   "metadata": {},
   "source": [
    "## Remove stop words"
   ]
  },
  {
   "cell_type": "code",
   "execution_count": 14,
   "id": "d82e4495-0352-44c1-a7bf-552d3e2128f4",
   "metadata": {},
   "outputs": [
    {
     "name": "stdout",
     "output_type": "stream",
     "text": [
      "['i', 'me', 'my', 'myself', 'we', 'our', 'ours', 'ourselves', 'you', \"you're\", \"you've\", \"you'll\", \"you'd\", 'your', 'yours', 'yourself', 'yourselves', 'he', 'him', 'his', 'himself', 'she', \"she's\", 'her', 'hers', 'herself', 'it', \"it's\", 'its', 'itself', 'they', 'them', 'their', 'theirs', 'themselves', 'what', 'which', 'who', 'whom', 'this', 'that', \"that'll\", 'these', 'those', 'am', 'is', 'are', 'was', 'were', 'be', 'been', 'being', 'have', 'has', 'had', 'having', 'do', 'does', 'did', 'doing', 'a', 'an', 'the', 'and', 'but', 'if', 'or', 'because', 'as', 'until', 'while', 'of', 'at', 'by', 'for', 'with', 'about', 'against', 'between', 'into', 'through', 'during', 'before', 'after', 'above', 'below', 'to', 'from', 'up', 'down', 'in', 'out', 'on', 'off', 'over', 'under', 'again', 'further', 'then', 'once', 'here', 'there', 'when', 'where', 'why', 'how', 'all', 'any', 'both', 'each', 'few', 'more', 'most', 'other', 'some', 'such', 'no', 'nor', 'not', 'only', 'own', 'same', 'so', 'than', 'too', 'very', 's', 't', 'can', 'will', 'just', 'don', \"don't\", 'should', \"should've\", 'now', 'd', 'll', 'm', 'o', 're', 've', 'y', 'ain', 'aren', \"aren't\", 'couldn', \"couldn't\", 'didn', \"didn't\", 'doesn', \"doesn't\", 'hadn', \"hadn't\", 'hasn', \"hasn't\", 'haven', \"haven't\", 'isn', \"isn't\", 'ma', 'mightn', \"mightn't\", 'mustn', \"mustn't\", 'needn', \"needn't\", 'shan', \"shan't\", 'shouldn', \"shouldn't\", 'wasn', \"wasn't\", 'weren', \"weren't\", 'won', \"won't\", 'wouldn', \"wouldn't\"]\n"
     ]
    }
   ],
   "source": [
    "from nltk.corpus import stopwords\n",
    "stopwords = stopwords.words('english')\n",
    "print(stopwords)"
   ]
  },
  {
   "cell_type": "code",
   "execution_count": 15,
   "id": "17fbd0e3-4d29-43fb-8ac5-f99501b9d354",
   "metadata": {},
   "outputs": [
    {
     "name": "stdout",
     "output_type": "stream",
     "text": [
      "['recent', 'years', 'natural', 'language', 'processing', 'nlp', 'undergone', 'remarkable', 'evolution', 'reshaping', 'landscape', 'human', 'computer', 'interaction', 'driving', 'transformative', 'advancements', 'across', 'various', 'domains', 'forefront', 'progress', 'transformer', 'models', 'epitomized', 'architectures', 'like', 'bert', 'gpt', 'revolutionized', 'language', 'understanding', 'generation', 'tasks', 'transfer', 'learning', 'techniques', 'enabled', 'models', 'leverage', 'pre', 'trained', 'language', 'representations', 'leading', 'significant', 'improve', 'ments', 'performance', 'across', 'diverse', 'nlp', 'tasks', 'minimal', 'task', 'specific', 'data', 'moreover', 'integration', 'multiple', 'modalities', 'propelled', 'development', 'multimodal', 'nlp', 'facilitating', 'richer', 'interactions', 'machines', 'humans', 'text', 'imag', 'e', 'audio', 'inputs', 'alongside', 'technological', 'advancements', 'theres', 'growing', 'emphasis', 'ethical', 'considerations', 'efforts', 'mitigate', 'biases', 'promote', 'fairness', 'nlp', 'models', 'datasets', 'meanwhile', 'innovations', 'low', 'resource', 'cross', 'lingual', 'nlp', 'im', 'democratize', 'access', 'nlp', 'technologies', 'languages', 'limited', 'resources', 'fostering', 'inclusivity', 'global', 'collaboration', 'conversational', 'ai', 'also', 'seen', 'remarkable', 'progress', 'sophisticated', 'chatbots', 'virtual', 'assistants', 'capable', 'engaging', 'n', 'natural', 'contextually', 'relevant', 'dialogues', 'users', 'additionally', 'pursuit', 'explainable', 'nlp', 'techniques', 'addresses', 'need', 'transparency', 'interpretability', 'complex', 'models', 'fostering', 'trust', 'facilitating', 'integration', 'critical', 'appl', 'ications', 'nlp', 'continues', 'evolve', 'rapid', 'pace', 'fueled', 'ongoing', 'research', 'innovation', 'potential', 'societal', 'impact', 'transformative', 'applications', 'appears', 'boundless']\n"
     ]
    }
   ],
   "source": [
    "word_tokenized = [word for word in word_tokenized if word not in stopwords]\n",
    "print(word_tokenized)"
   ]
  },
  {
   "cell_type": "code",
   "execution_count": 16,
   "id": "1c78f40a-f083-42f7-95eb-9d6bf67c5352",
   "metadata": {},
   "outputs": [
    {
     "data": {
      "text/plain": [
       "[('nlp', 8), ('models', 4), ('language', 3), ('natural', 2), ('remarkable', 2)]"
      ]
     },
     "execution_count": 16,
     "metadata": {},
     "output_type": "execute_result"
    }
   ],
   "source": [
    "freqdist = FreqDist(word_tokenized)\n",
    "freqdist.most_common(5)"
   ]
  },
  {
   "cell_type": "code",
   "execution_count": null,
   "id": "eb23283b-e693-49d0-be72-8a32cfac256f",
   "metadata": {},
   "outputs": [],
   "source": []
  }
 ],
 "metadata": {
  "kernelspec": {
   "display_name": "NLP",
   "language": "python",
   "name": "nlp"
  },
  "language_info": {
   "codemirror_mode": {
    "name": "ipython",
    "version": 3
   },
   "file_extension": ".py",
   "mimetype": "text/x-python",
   "name": "python",
   "nbconvert_exporter": "python",
   "pygments_lexer": "ipython3",
   "version": "3.10.14"
  }
 },
 "nbformat": 4,
 "nbformat_minor": 5
}
