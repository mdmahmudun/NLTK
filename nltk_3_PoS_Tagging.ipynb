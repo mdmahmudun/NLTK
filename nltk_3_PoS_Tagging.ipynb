{
 "cells": [
  {
   "cell_type": "markdown",
   "id": "17182ead",
   "metadata": {},
   "source": [
    "## **Parts of Speech Tagging** "
   ]
  },
  {
   "cell_type": "code",
   "execution_count": null,
   "id": "60149b9e",
   "metadata": {},
   "outputs": [],
   "source": [
    "import nltk\n",
    "from nltk import word_tokenize"
   ]
  },
  {
   "cell_type": "code",
   "execution_count": 5,
   "id": "856c666f",
   "metadata": {},
   "outputs": [],
   "source": [
    "text = \"The sun peeked through the clouds, painting the sky in hues of pink and orange. A gentle breeze whispered through the trees, carrying the scent of fresh flowers.\""
   ]
  },
  {
   "cell_type": "code",
   "execution_count": 8,
   "id": "d83c4dc1",
   "metadata": {},
   "outputs": [
    {
     "name": "stdout",
     "output_type": "stream",
     "text": [
      "['The', 'sun', 'peeked', 'through', 'the', 'clouds', ',', 'painting', 'the', 'sky', 'in', 'hues', 'of', 'pink', 'and', 'orange', '.', 'A', 'gentle', 'breeze', 'whispered', 'through', 'the', 'trees', ',', 'carrying', 'the', 'scent', 'of', 'fresh', 'flowers', '.']\n"
     ]
    }
   ],
   "source": [
    "tokenized_words = word_tokenize(text)\n",
    "print(tokenized_words)"
   ]
  },
  {
   "cell_type": "code",
   "execution_count": 23,
   "id": "cb687061",
   "metadata": {},
   "outputs": [
    {
     "name": "stdout",
     "output_type": "stream",
     "text": [
      "['The', 'sun', 'peeked', 'through', 'the', 'clouds', 'painting', 'the', 'sky', 'in', 'hues', 'of', 'pink', 'and', 'orange', 'A', 'gentle', 'breeze', 'whispered', 'through', 'the', 'trees', 'carrying', 'the', 'scent', 'of', 'fresh', 'flowers']\n"
     ]
    }
   ],
   "source": [
    "from string import punctuation\n",
    "cleaned_words = [word for word in tokenized_words if word not in punctuation]\n",
    "print(cleaned_words)"
   ]
  },
  {
   "cell_type": "code",
   "execution_count": 26,
   "id": "2d9ab2c2",
   "metadata": {},
   "outputs": [
    {
     "data": {
      "text/plain": [
       "[('The', 'DT'),\n",
       " ('sun', 'NN'),\n",
       " ('peeked', 'VBD'),\n",
       " ('through', 'IN'),\n",
       " ('the', 'DT'),\n",
       " ('clouds', 'NNS'),\n",
       " ('painting', 'VBG'),\n",
       " ('the', 'DT'),\n",
       " ('sky', 'NN'),\n",
       " ('in', 'IN'),\n",
       " ('hues', 'NNS'),\n",
       " ('of', 'IN'),\n",
       " ('pink', 'NN'),\n",
       " ('and', 'CC'),\n",
       " ('orange', 'NN'),\n",
       " ('A', 'NNP'),\n",
       " ('gentle', 'NN'),\n",
       " ('breeze', 'NN'),\n",
       " ('whispered', 'VBD'),\n",
       " ('through', 'IN'),\n",
       " ('the', 'DT'),\n",
       " ('trees', 'NNS'),\n",
       " ('carrying', 'VBG'),\n",
       " ('the', 'DT'),\n",
       " ('scent', 'NN'),\n",
       " ('of', 'IN'),\n",
       " ('fresh', 'JJ'),\n",
       " ('flowers', 'NNS')]"
      ]
     },
     "execution_count": 26,
     "metadata": {},
     "output_type": "execute_result"
    }
   ],
   "source": [
    "from nltk import pos_tag\n",
    "pos_tagged_words = pos_tag(cleaned_words)\n",
    "pos_tagged_words"
   ]
  },
  {
   "cell_type": "code",
   "execution_count": 66,
   "id": "a45faebf",
   "metadata": {},
   "outputs": [
    {
     "name": "stdout",
     "output_type": "stream",
     "text": [
      "JJ: adjective or numeral, ordinal\n",
      "    third ill-mannered pre-war regrettable oiled calamitous first separable\n",
      "    ectoplasmic battery-powered participatory fourth still-to-be-named\n",
      "    multilingual multi-disciplinary ...\n"
     ]
    }
   ],
   "source": [
    "nltk.help.upenn_tagset('JJ')"
   ]
  },
  {
   "cell_type": "code",
   "execution_count": 61,
   "id": "5cff9103",
   "metadata": {},
   "outputs": [
    {
     "data": {
      "text/html": [
       "<div>\n",
       "<style scoped>\n",
       "    .dataframe tbody tr th:only-of-type {\n",
       "        vertical-align: middle;\n",
       "    }\n",
       "\n",
       "    .dataframe tbody tr th {\n",
       "        vertical-align: top;\n",
       "    }\n",
       "\n",
       "    .dataframe thead th {\n",
       "        text-align: right;\n",
       "    }\n",
       "</style>\n",
       "<table border=\"1\" class=\"dataframe\">\n",
       "  <thead>\n",
       "    <tr style=\"text-align: right;\">\n",
       "      <th></th>\n",
       "      <th>Word</th>\n",
       "      <th>Parts of Speech</th>\n",
       "    </tr>\n",
       "  </thead>\n",
       "  <tbody>\n",
       "    <tr>\n",
       "      <th>0</th>\n",
       "      <td>The</td>\n",
       "      <td>DT</td>\n",
       "    </tr>\n",
       "    <tr>\n",
       "      <th>1</th>\n",
       "      <td>sun</td>\n",
       "      <td>NN</td>\n",
       "    </tr>\n",
       "    <tr>\n",
       "      <th>2</th>\n",
       "      <td>peeked</td>\n",
       "      <td>VBD</td>\n",
       "    </tr>\n",
       "    <tr>\n",
       "      <th>3</th>\n",
       "      <td>through</td>\n",
       "      <td>IN</td>\n",
       "    </tr>\n",
       "    <tr>\n",
       "      <th>4</th>\n",
       "      <td>the</td>\n",
       "      <td>DT</td>\n",
       "    </tr>\n",
       "    <tr>\n",
       "      <th>5</th>\n",
       "      <td>clouds</td>\n",
       "      <td>NNS</td>\n",
       "    </tr>\n",
       "    <tr>\n",
       "      <th>6</th>\n",
       "      <td>painting</td>\n",
       "      <td>VBG</td>\n",
       "    </tr>\n",
       "    <tr>\n",
       "      <th>7</th>\n",
       "      <td>the</td>\n",
       "      <td>DT</td>\n",
       "    </tr>\n",
       "    <tr>\n",
       "      <th>8</th>\n",
       "      <td>sky</td>\n",
       "      <td>NN</td>\n",
       "    </tr>\n",
       "    <tr>\n",
       "      <th>9</th>\n",
       "      <td>in</td>\n",
       "      <td>IN</td>\n",
       "    </tr>\n",
       "    <tr>\n",
       "      <th>10</th>\n",
       "      <td>hues</td>\n",
       "      <td>NNS</td>\n",
       "    </tr>\n",
       "    <tr>\n",
       "      <th>11</th>\n",
       "      <td>of</td>\n",
       "      <td>IN</td>\n",
       "    </tr>\n",
       "    <tr>\n",
       "      <th>12</th>\n",
       "      <td>pink</td>\n",
       "      <td>NN</td>\n",
       "    </tr>\n",
       "    <tr>\n",
       "      <th>13</th>\n",
       "      <td>and</td>\n",
       "      <td>CC</td>\n",
       "    </tr>\n",
       "    <tr>\n",
       "      <th>14</th>\n",
       "      <td>orange</td>\n",
       "      <td>NN</td>\n",
       "    </tr>\n",
       "    <tr>\n",
       "      <th>15</th>\n",
       "      <td>A</td>\n",
       "      <td>NNP</td>\n",
       "    </tr>\n",
       "    <tr>\n",
       "      <th>16</th>\n",
       "      <td>gentle</td>\n",
       "      <td>NN</td>\n",
       "    </tr>\n",
       "    <tr>\n",
       "      <th>17</th>\n",
       "      <td>breeze</td>\n",
       "      <td>NN</td>\n",
       "    </tr>\n",
       "    <tr>\n",
       "      <th>18</th>\n",
       "      <td>whispered</td>\n",
       "      <td>VBD</td>\n",
       "    </tr>\n",
       "    <tr>\n",
       "      <th>19</th>\n",
       "      <td>through</td>\n",
       "      <td>IN</td>\n",
       "    </tr>\n",
       "    <tr>\n",
       "      <th>20</th>\n",
       "      <td>the</td>\n",
       "      <td>DT</td>\n",
       "    </tr>\n",
       "    <tr>\n",
       "      <th>21</th>\n",
       "      <td>trees</td>\n",
       "      <td>NNS</td>\n",
       "    </tr>\n",
       "    <tr>\n",
       "      <th>22</th>\n",
       "      <td>carrying</td>\n",
       "      <td>VBG</td>\n",
       "    </tr>\n",
       "    <tr>\n",
       "      <th>23</th>\n",
       "      <td>the</td>\n",
       "      <td>DT</td>\n",
       "    </tr>\n",
       "    <tr>\n",
       "      <th>24</th>\n",
       "      <td>scent</td>\n",
       "      <td>NN</td>\n",
       "    </tr>\n",
       "    <tr>\n",
       "      <th>25</th>\n",
       "      <td>of</td>\n",
       "      <td>IN</td>\n",
       "    </tr>\n",
       "    <tr>\n",
       "      <th>26</th>\n",
       "      <td>fresh</td>\n",
       "      <td>JJ</td>\n",
       "    </tr>\n",
       "    <tr>\n",
       "      <th>27</th>\n",
       "      <td>flowers</td>\n",
       "      <td>NNS</td>\n",
       "    </tr>\n",
       "  </tbody>\n",
       "</table>\n",
       "</div>"
      ],
      "text/plain": [
       "         Word Parts of Speech\n",
       "0         The              DT\n",
       "1         sun              NN\n",
       "2      peeked             VBD\n",
       "3     through              IN\n",
       "4         the              DT\n",
       "5      clouds             NNS\n",
       "6    painting             VBG\n",
       "7         the              DT\n",
       "8         sky              NN\n",
       "9          in              IN\n",
       "10       hues             NNS\n",
       "11         of              IN\n",
       "12       pink              NN\n",
       "13        and              CC\n",
       "14     orange              NN\n",
       "15          A             NNP\n",
       "16     gentle              NN\n",
       "17     breeze              NN\n",
       "18  whispered             VBD\n",
       "19    through              IN\n",
       "20        the              DT\n",
       "21      trees             NNS\n",
       "22   carrying             VBG\n",
       "23        the              DT\n",
       "24      scent              NN\n",
       "25         of              IN\n",
       "26      fresh              JJ\n",
       "27    flowers             NNS"
      ]
     },
     "execution_count": 61,
     "metadata": {},
     "output_type": "execute_result"
    }
   ],
   "source": [
    "import pandas as pd\n",
    "descs = []\n",
    "PoSs = []\n",
    "for tup in pos_tagged_words:\n",
    "    word = tup[0]\n",
    "    pos = tup[1]\n",
    "    PoSs.append(pos)\n",
    "df = pd.DataFrame({\n",
    "    'Word': cleaned_words,\n",
    "    'Parts of Speech': PoSs,\n",
    "}) \n",
    "df"
   ]
  },
  {
   "cell_type": "code",
   "execution_count": 67,
   "id": "060c0733",
   "metadata": {},
   "outputs": [
    {
     "name": "stdout",
     "output_type": "stream",
     "text": [
      "IN: preposition or conjunction, subordinating\n",
      "    astride among uppon whether out inside pro despite on by throughout\n",
      "    below within for towards near behind atop around if like until below\n",
      "    next into if beside ...\n"
     ]
    }
   ],
   "source": [
    "nltk.help.upenn_tagset('IN')"
   ]
  },
  {
   "cell_type": "code",
   "execution_count": 69,
   "id": "b964d687",
   "metadata": {},
   "outputs": [
    {
     "data": {
      "text/html": [
       "<div>\n",
       "<style scoped>\n",
       "    .dataframe tbody tr th:only-of-type {\n",
       "        vertical-align: middle;\n",
       "    }\n",
       "\n",
       "    .dataframe tbody tr th {\n",
       "        vertical-align: top;\n",
       "    }\n",
       "\n",
       "    .dataframe thead th {\n",
       "        text-align: right;\n",
       "    }\n",
       "</style>\n",
       "<table border=\"1\" class=\"dataframe\">\n",
       "  <thead>\n",
       "    <tr style=\"text-align: right;\">\n",
       "      <th></th>\n",
       "      <th>Word</th>\n",
       "      <th>Parts of Speech</th>\n",
       "    </tr>\n",
       "  </thead>\n",
       "  <tbody>\n",
       "    <tr>\n",
       "      <th>1</th>\n",
       "      <td>sun</td>\n",
       "      <td>NN</td>\n",
       "    </tr>\n",
       "    <tr>\n",
       "      <th>8</th>\n",
       "      <td>sky</td>\n",
       "      <td>NN</td>\n",
       "    </tr>\n",
       "    <tr>\n",
       "      <th>12</th>\n",
       "      <td>pink</td>\n",
       "      <td>NN</td>\n",
       "    </tr>\n",
       "    <tr>\n",
       "      <th>14</th>\n",
       "      <td>orange</td>\n",
       "      <td>NN</td>\n",
       "    </tr>\n",
       "    <tr>\n",
       "      <th>16</th>\n",
       "      <td>gentle</td>\n",
       "      <td>NN</td>\n",
       "    </tr>\n",
       "    <tr>\n",
       "      <th>17</th>\n",
       "      <td>breeze</td>\n",
       "      <td>NN</td>\n",
       "    </tr>\n",
       "    <tr>\n",
       "      <th>24</th>\n",
       "      <td>scent</td>\n",
       "      <td>NN</td>\n",
       "    </tr>\n",
       "  </tbody>\n",
       "</table>\n",
       "</div>"
      ],
      "text/plain": [
       "      Word Parts of Speech\n",
       "1      sun              NN\n",
       "8      sky              NN\n",
       "12    pink              NN\n",
       "14  orange              NN\n",
       "16  gentle              NN\n",
       "17  breeze              NN\n",
       "24   scent              NN"
      ]
     },
     "execution_count": 69,
     "metadata": {},
     "output_type": "execute_result"
    }
   ],
   "source": [
    "nouns = df[df['Parts of Speech'] == 'NN']\n",
    "nouns"
   ]
  },
  {
   "cell_type": "code",
   "execution_count": null,
   "id": "21d87b21",
   "metadata": {},
   "outputs": [],
   "source": []
  }
 ],
 "metadata": {
  "kernelspec": {
   "display_name": "Python 3 (ipykernel)",
   "language": "python",
   "name": "python3"
  },
  "language_info": {
   "codemirror_mode": {
    "name": "ipython",
    "version": 3
   },
   "file_extension": ".py",
   "mimetype": "text/x-python",
   "name": "python",
   "nbconvert_exporter": "python",
   "pygments_lexer": "ipython3",
   "version": "3.9.13"
  }
 },
 "nbformat": 4,
 "nbformat_minor": 5
}
